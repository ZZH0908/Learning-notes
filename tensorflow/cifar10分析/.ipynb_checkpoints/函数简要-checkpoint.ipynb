{
 "cells": [
  {
   "cell_type": "code",
   "execution_count": null,
   "metadata": {},
   "outputs": [],
   "source": [
    "# 函数使用介绍，这里只给出前四个参数，简单使用这四个够用了，详细去查tensorflow API\n",
    "tf.strided_slice(input_, begin, end, strides=None)\n",
    "\n",
    "第一个参数：输入张量（tensor）\n",
    "第二个参数：切片起始位置的索引\n",
    "第三个参数：切片结束位置的索引（end索引是开区间的）\n",
    "第四个参数：步长\n",
    "\n",
    "NOTE：\n",
    "步长中数值可以为负，负号代表反向切片\n",
    "\n",
    "\n",
    "官网例子：\n",
    "# tensor。shape--->(3, 2, 3)\n",
    "t = tf.constant([[[1, 1, 1], [2, 2, 2]],\n",
    "                 [[3, 3, 3], [4, 4, 4]],\n",
    "                 [[5, 5, 5], [6, 6, 6]]])\n",
    "\n",
    "tf.strided_slice(t, [1, 0, 0], [2, 1, 3], [1, 1, 1])  # 输出----->[[[3, 3, 3]]]\n",
    "tf.strided_slice(t, [1, 0, 0], [2, 2, 3], [1, 1, 1])  # [[[3, 3, 3],\n",
    "                                                      #   [4, 4, 4]]]\n",
    "tf.strided_slice(t, [1, -1, 0], [2, -3, 2], [1, -1, 1])  # [[[4, 4],\n",
    "                                                         #   [3, 3]]]"
   ]
  },
  {
   "cell_type": "raw",
   "metadata": {},
   "source": [
    "看不明白没关系，来详细表述一下（其实就三维，可以在脑中想象推理一下）：\n",
    "例1\n",
    "由[1, 0, 0]和[2, 1, 3]可以看出每一维对应的起点和终点为[1, 2)、 [0, 1)、 [0, 3), 因为开区间和步长的缘故[1, 2)使第一维限制在[[3, 3, 3], [4, 4, 4]]；\n",
    "[0, 1)使第二维限制在[3, 3, 3]、 [0, 3)使第三维限制在[3, 3, 3]   \n",
    "所以输出：[[[3, 3, 3]]]\n",
    "\n",
    "例3\n",
    "还是根据索引tensor提取每一维对应的起点和终点得到[1, 2)、[-1, -3)、[0, 3), 对应的限制空间为[[3, 3, 3], [4, 4, 4]]；[3, 3, 3], [4, 4, 4]；[3, 3], [4, 4]\n",
    "输出：# [[[4, 4], [3, 3]]]"
   ]
  }
 ],
 "metadata": {
  "kernelspec": {
   "display_name": "Python 3",
   "language": "python",
   "name": "python3"
  },
  "language_info": {
   "codemirror_mode": {
    "name": "ipython",
    "version": 3
   },
   "file_extension": ".py",
   "mimetype": "text/x-python",
   "name": "python",
   "nbconvert_exporter": "python",
   "pygments_lexer": "ipython3",
   "version": "3.6.4"
  }
 },
 "nbformat": 4,
 "nbformat_minor": 2
}
