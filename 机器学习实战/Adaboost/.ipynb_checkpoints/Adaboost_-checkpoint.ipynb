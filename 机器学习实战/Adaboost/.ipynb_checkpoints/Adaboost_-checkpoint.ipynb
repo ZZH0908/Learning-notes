{
 "cells": [
  {
   "cell_type": "code",
   "execution_count": 19,
   "metadata": {},
   "outputs": [],
   "source": [
    "import numpy as np\n",
    "import matplotlib.pyplot as plt"
   ]
  },
  {
   "cell_type": "code",
   "execution_count": 20,
   "metadata": {},
   "outputs": [
    {
     "data": {
      "image/png": "[encoded data removed]",
      "text/plain": [
       "<Figure size 432x288 with 1 Axes>"
      ]
     },
     "metadata": {},
     "output_type": "display_data"
    }
   ],
   "source": [
    "# 构建数据和label\n",
    "def loadSimpData():\n",
    "    datMat = np.matrix([[ 1. ,  2.1],\n",
    "        [ 1.5 ,  1.6],\n",
    "        [ 1.3,  1. ],\n",
    "        [ 1. ,  1. ],\n",
    "        [ 2. ,  1. ]])\n",
    "    classLabels = [1.0, 1.0, -1.0, -1.0, 1.0]\n",
    "    return datMat, classLabels\n",
    "\n",
    "data, label = loadSimpData()\n",
    "data = np.asarray(data)\n",
    "label = np.asarray(label)\n",
    "plt.plot(data[0:2, 0], data[0:2, 1], 'ro')\n",
    "plt.plot(data[2:4, 0], data[2:4, 1], 'kD')\n",
    "plt.plot(data[-1, 0], data[-1, 1], 'ro')\n",
    "plt.show()"
   ]
  },
  {
   "cell_type": "code",
   "execution_count": 24,
   "metadata": {},
   "outputs": [
    {
     "name": "stdout",
     "output_type": "stream",
     "text": [
      "aggClassEst:  [[-0.69314718  0.69314718 -0.69314718 -0.69314718  0.69314718]]\n",
      "total error:  0.2\n",
      "aggClassEst:  [[ 0.27980789  1.66610226 -1.66610226 -1.66610226 -0.27980789]]\n",
      "total error:  0.2\n",
      "aggClassEst:  [[ 1.17568763  2.56198199 -0.77022252 -0.77022252  0.61607184]]\n",
      "total error:  0.0\n"
     ]
    }
   ],
   "source": [
    "# 单层决策树，它仅基于单个特征来进行分类，即找到使得误差最小的阈值，可以想如上图无论是从哪个轴去划分，反正你只能砍一刀！！找到使得误差最小的那一刀砍下去！！！\n",
    "# 单层决策树函数\n",
    "def stumpClassify(dataMatrix,dimen,threshVal,threshIneq):#just classify the data\n",
    "    retArray = np.ones((np.shape(dataMatrix)[0],1))\n",
    "    if threshIneq == 'lt':\n",
    "        retArray[dataMatrix[:,dimen] <= threshVal] = -1.0\n",
    "    else:\n",
    "        retArray[dataMatrix[:,dimen] > threshVal] = -1.0\n",
    "    return retArray\n",
    "\n",
    "\n",
    "def buildStump(dataArr,classLabels,D):\n",
    "    dataMatrix = np.mat(dataArr)\n",
    "    labelMat = np.mat(classLabels).T\n",
    "    m,n = np.shape(dataMatrix)\n",
    "    numSteps = 10.0   # 阈值移动的步数\n",
    "    bestStump = {}   # 用于保存信息，比如：最佳阈值、划分的是哪个特征轴、轴两边哪边是正类\n",
    "    bestClasEst = np.mat(np.zeros((m,1)))\n",
    "    minError = np.inf\n",
    "    for i in range(n):   # 遍历每个轴，因为不确定这个最优的“一刀划分”是在哪个特征轴上\n",
    "        # 求得每个轴的最大最小值，再比上步数得到每一次阈值相隔的步长\n",
    "        rangeMin = dataMatrix[:,i].min()\n",
    "        rangeMax = dataMatrix[:,i].max()\n",
    "        stepSize = (rangeMax-rangeMin)/numSteps\n",
    "        for j in range(-1,int(numSteps)+1):   # 遍历所有阈值，注意到从-1开始，说明是从数据之外开始的\n",
    "            for inequal in ['lt', 'gt']:   # 对每一个阈值又有两种情况，就是认为阈值两边哪边是正类哪边是负类，lt是少于\n",
    "                threshVal = (rangeMin + float(j) * stepSize)\n",
    "                predictedVals = stumpClassify(dataMatrix, i, threshVal, inequal)  # 单层决策树返回样本分类结果\n",
    "                errArr = np.mat(np.ones((m,1)))\n",
    "                errArr[predictedVals == labelMat] = 0   # 因为是计算的错误率，所以将分类正确的置0\n",
    "                weightedError = D.T*errArr  # 文中解释：是基于权重向量的加权求和作为分类器的评价指标的，正常来说应该是基于错误率的，这里可以理解为简化版的衡量标准\n",
    "#                 print(\"split: dim %d, thresh %.2f, thresh ineqal: %s, the weighted error is %.3f\" % (i, threshVal, inequal, weightedError))\n",
    "                if weightedError < minError:   # 找出效果最好的分类器\n",
    "                    minError = weightedError   # 误差\n",
    "                    bestClasEst = predictedVals.copy()  # 预测结果\n",
    "                    bestStump['dim'] = i  # 保存特征轴信息\n",
    "                    bestStump['thresh'] = threshVal  # 保存阈值信息\n",
    "                    bestStump['ineq'] = inequal  # 阈值两边的正负类类型\n",
    "    return bestStump,minError,bestClasEst\n",
    "\n",
    "\n",
    "def adaBoostTrainDS(dataArr,classLabels,numIt=40):\n",
    "    weakClassArr = []  # 用于保存所有的弱分类器的性能结果信息\n",
    "    m = np.shape(dataArr)[0]   # 返回样本数\n",
    "    D = np.mat(np.ones((m,1))/m)   # 初始权重向量，每个权重都是一样的\n",
    "    aggClassEst = np.mat(np.zeros((m,1)))\n",
    "    for i in range(numIt): # 表示numIt个分类器\n",
    "        bestStump,error,classEst = buildStump(dataArr, classLabels, D)  # 单层决策树分类，返回一个分类器\n",
    "        #print \"D:\",D.T\n",
    "        alpha = float(0.5*np.log((1.0-error)/max(error, 1e-16)))  # 根据上一个弱分类器的误差计算分类器的权重值，分母是为了防止为0的情况\n",
    "        bestStump['alpha'] = alpha  # 保存分类器权重信息\n",
    "        weakClassArr.append(bestStump)   # 保存所有的弱分类器的性能结果信息\n",
    "        #print \"classEst: \",classEst.T\n",
    "        # 更新样本权重向量D\n",
    "        expon = np.multiply(-1*alpha*np.mat(classLabels).T,classEst)\n",
    "        D = np.multiply(D,np.exp(expon))\n",
    "        D = D/D.sum()\n",
    "        # 累加分类器的预测值\n",
    "        aggClassEst += alpha*classEst\n",
    "        print(\"aggClassEst: \",aggClassEst.T)\n",
    "        # 对累加的分类器预测结果应用指示函数再求错误的样本数\n",
    "        aggErrors = np.multiply(np.sign(aggClassEst) != np.mat(classLabels).T, np.ones((m,1)))\n",
    "        errorRate = aggErrors.sum()/m  # 最终的错误率\n",
    "        print(\"total error: \",errorRate)\n",
    "        # 可以看到上面一边累加预测值一边计算错误率，问题是40个弱分类器还没算完就要同时计算集成的预测结果呢\n",
    "        # 因为不一定集成40个才是最好的，也有可能10个错误率就为0了，所以才有下以的if判断，满足条件时中止循环\n",
    "        if errorRate == 0.0: break\n",
    "    return weakClassArr, aggClassEst\n",
    "\n",
    "data,label = loadSimpData()\n",
    "out1, out2 = adaBoostTrainDS(data, label, numIt=40)"
   ]
  },
  {
   "cell_type": "code",
   "execution_count": 27,
   "metadata": {},
   "outputs": [
    {
     "name": "stdout",
     "output_type": "stream",
     "text": [
      "aggClassEst:  [[-0.69314718  0.69314718 -0.69314718 -0.69314718  0.69314718]]\n",
      "total error:  0.2\n",
      "aggClassEst:  [[ 0.27980789  1.66610226 -1.66610226 -1.66610226 -0.27980789]]\n",
      "total error:  0.2\n",
      "aggClassEst:  [[ 1.17568763  2.56198199 -0.77022252 -0.77022252  0.61607184]]\n",
      "total error:  0.0\n",
      "3\n",
      "[[-0.69314718]]\n",
      "[[-1.66610226]]\n",
      "[[-2.56198199]]\n",
      "预测类别为：  [[-1.]]\n"
     ]
    }
   ],
   "source": [
    "# 利用训练好的弱分类器以及权重进行测试\n",
    "# 第一个参数为待测数据，第二为训练好的弱分类器\n",
    "def adaClassify(datToClass,classifierArr):\n",
    "    dataMatrix = np.mat(datToClass)\n",
    "    m = np.shape(dataMatrix)[0]\n",
    "    aggClassEst = np.mat(np.zeros((m,1)))\n",
    "    for i in range(len(classifierArr)):\n",
    "        # 弱分类器进行预测\n",
    "        classEst = stumpClassify(dataMatrix,classifierArr[i]['dim'],\n",
    "                                 classifierArr[i]['thresh'],\n",
    "                                 classifierArr[i]['ineq'])#call stump classify\n",
    "        aggClassEst += classifierArr[i]['alpha']*classEst\n",
    "        print(aggClassEst)\n",
    "    # 对预测值累加和应用指示函数即得到预测类别\n",
    "    return np.sign(aggClassEst)\n",
    "\n",
    "data,label = loadSimpData()\n",
    "weak_clas, out2 = adaBoostTrainDS(data, label, numIt=40)\n",
    "print(len(weak_clas))\n",
    "class_ = adaClassify([0, 0], weak_clas)\n",
    "print(\"预测类别为： \", class_[0])"
   ]
  },
  {
   "cell_type": "markdown",
   "metadata": {},
   "source": [
    "书本中还比较了adaboost方法和逻辑回归在马疝病数据集上的性能，结果表明adaboost方法仅采用了50个弱分类器就得到了优于逻辑回归的预测性能，文中还介绍了一般来说集成方法会逐渐达到一个稳定值，不会随着弱分类器数量的增加而增加，后面还介绍了正确率、召回率、ROC曲线等."
   ]
  }
 ],
 "metadata": {
  "kernelspec": {
   "display_name": "Python [conda env:Anaconda3]",
   "language": "python",
   "name": "conda-env-Anaconda3-py"
  },
  "language_info": {
   "codemirror_mode": {
    "name": "ipython",
    "version": 3
   },
   "file_extension": ".py",
   "mimetype": "text/x-python",
   "name": "python",
   "nbconvert_exporter": "python",
   "pygments_lexer": "ipython3",
   "version": "3.5.2"
  }
 },
 "nbformat": 4,
 "nbformat_minor": 2
}
