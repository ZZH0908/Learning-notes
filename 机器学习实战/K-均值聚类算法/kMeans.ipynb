{
 "cells": [
  {
   "cell_type": "markdown",
   "metadata": {},
   "source": [
    "### k-均值聚类算法"
   ]
  },
  {
   "cell_type": "code",
   "execution_count": 1,
   "metadata": {
    "collapsed": true
   },
   "outputs": [],
   "source": [
    "from numpy import *\n",
    "# 加载数据\n",
    "def loadDataSet(fileName):     \n",
    "    dataMat = []               \n",
    "    fr = open(fileName)\n",
    "    for line in fr.readlines():\n",
    "        curLine = line.strip().split('\\t')\n",
    "        fltLine = [float(i) for i in curLine]\n",
    "        # fltLine = map(float, curLine) #map all elements to float()\n",
    "        dataMat.append(fltLine)\n",
    "    return dataMat\n",
    "# 欧式距离、衡量标准\n",
    "def distEclud(vecA, vecB):\n",
    "    return sqrt(sum(power(vecA - vecB, 2))) \n",
    "# 产生随机的质心,。随机质心必须要在整个数据集的边界之内，所以实现要检测数据集最大最小值\n",
    "def randCent(dataSet, k):\n",
    "    n = shape(dataSet)[1]\n",
    "    centroids = mat(zeros((k,n)))\n",
    "    for j in range(n):\n",
    "        minJ = min(dataSet[:,j]) \n",
    "        rangeJ = float(max(dataSet[:,j]) - minJ)\n",
    "        centroids[:,j] = mat(minJ + rangeJ * random.rand(k,1))\n",
    "    return centroids"
   ]
  },
  {
   "cell_type": "code",
   "execution_count": 2,
   "metadata": {
    "collapsed": false
   },
   "outputs": [
    {
     "name": "stdout",
     "output_type": "stream",
     "text": [
      "(80, 2)\n",
      "[[-0.17374834 -2.33170223]\n",
      " [ 3.92358691 -3.86746483]\n",
      " [ 4.06849034  4.02859241]\n",
      " [ 2.20364964 -0.40257497]]\n"
     ]
    }
   ],
   "source": [
    "# 测试功能函数\n",
    "a = asarray(loadDataSet('testSet.txt'))\n",
    "print(a.shape)\n",
    "b = randCent(a, 4)\n",
    "print(b)"
   ]
  },
  {
   "cell_type": "code",
   "execution_count": 3,
   "metadata": {
    "collapsed": true
   },
   "outputs": [],
   "source": [
    "# k-means聚类算法\n",
    "def kMeans(dataSet, k, distMeas=distEclud, createCent=randCent):\n",
    "    m = shape(dataSet)[0]\n",
    "    # 为数据初始化一个副本用于随后的更新保存\n",
    "    clusterAssment = zeros((m,2))\n",
    "    # 初始化k个质心\n",
    "    centroids = createCent(dataSet, k)\n",
    "    # 用于控制是否需要更新\n",
    "    clusterChanged = True\n",
    "    while clusterChanged:\n",
    "        clusterChanged = False\n",
    "        for i in range(m): # 遍历每一个样本\n",
    "            minDist = inf; minIndex = -1\n",
    "            for j in range(k): # 计算到每个质心的距离\n",
    "                distJI = distMeas(centroids[j,:],dataSet[i,:])\n",
    "                if distJI < minDist:\n",
    "                    minDist = distJI; minIndex = j\n",
    "            # 因为刚开始总会出现！=，但随着一遍一遍更新质心，就不会出现!=的情况，clusterChanged也就不会出现True了即完成学习\n",
    "            if clusterAssment[i,0] != minIndex: clusterChanged = True\n",
    "            # 对副本进行保存更新\n",
    "            clusterAssment[i,:] = minIndex,minDist**2\n",
    "        print(centroids)\n",
    "        # 用所有点的平均值代替质心\n",
    "        for cent in range(k):#recalculate centroids\n",
    "            ptsInClust = dataSet[nonzero(clusterAssment[:,0]==cent)[0]]#get all the point in this cluster\n",
    "            centroids[cent,:] = mean(ptsInClust, axis=0) #assign centroid to mean \n",
    "    # 返回最终质心值和每个簇索引以及对应数据的dist\n",
    "    return centroids, clusterAssment"
   ]
  },
  {
   "cell_type": "code",
   "execution_count": 4,
   "metadata": {
    "collapsed": false
   },
   "outputs": [
    {
     "data": {
      "image/png": "[encoded data removed]",
      "text/plain": [
       "<Figure size 432x288 with 1 Axes>"
      ]
     },
     "metadata": {},
     "output_type": "display_data"
    }
   ],
   "source": [
    "import matplotlib.pyplot as plt\n",
    "data = loadDataSet('./testSet.txt')\n",
    "data = asarray(data)\n",
    "\n",
    "def plot_fun(data, cluster_id, num):\n",
    "    temp = []\n",
    "    idex = where(cluster_id==num)[0]\n",
    "    for i in idex:\n",
    "        temp.append(data[i])\n",
    "    temp = asarray(temp)\n",
    "    return temp\n",
    "# 加载聚类后保存的clusterAssment\n",
    "f1 = open('./clusterAssment.txt', 'r')\n",
    "cluster_id = []\n",
    "for line in f1:\n",
    "    cluster_id.append(int(line[0]))\n",
    "\n",
    "cluster_id = asarray(cluster_id)\n",
    "# 加载聚类后的质心坐标\n",
    "f2 = open('./Centroid.txt', 'r')\n",
    "centroid = []\n",
    "for line in f2:\n",
    "    line = line.split()\n",
    "    line = [float(i) for i in line]\n",
    "    centroid.append(line)\n",
    "centroid = asarray(centroid)\n",
    "# 绘制\n",
    "plt.plot(centroid[:, 0], centroid[:, 1], 'kD')\n",
    "mark_list = ['r+', 'bo', 'gx', 'y.']\n",
    "for p in range(0, 4):\n",
    "    w = plot_fun(data=data, cluster_id=cluster_id, num=p)\n",
    "    plt.plot(w[:, 0], w[:, 1], mark_list[p])\n",
    "plt.savefig('./images/out.jpg')\n",
    "plt.show()\n",
    "# 每次运行聚类结果有可能不一样，原因是质心是随机产生的，此现象属正常"
   ]
  },
  {
   "cell_type": "markdown",
   "metadata": {
    "collapsed": true
   },
   "source": [
    "### 提高聚类性能\n",
    "详细方法看《机器学习实战》第十章"
   ]
  },
  {
   "cell_type": "code",
   "execution_count": 5,
   "metadata": {
    "collapsed": true
   },
   "outputs": [],
   "source": [
    "def biKmeans(dataSet, k, distMeas=distEclud):\n",
    "    m = shape(dataSet)[0]\n",
    "    clusterAssment = zeros((m,2))\n",
    "    # 以所有数据的的平均值作为第一个初始质心\n",
    "    centroid0 = mean(dataSet, axis=0).tolist()\n",
    "    centList =[centroid0] #create a list with one centroid\n",
    "    # 遍历每一个data，计算和质心的距离即误差，并保存到clusterAssment\n",
    "    for j in range(m):\n",
    "        clusterAssment[j,1] = distMeas(mat(centroid0), dataSet[j,:])**2\n",
    "    while (len(centList) < k):\n",
    "        lowestSSE = inf\n",
    "        # 遍历选中的那个分支每一个簇，初始的时候只有1个\n",
    "        for i in range(len(centList)):\n",
    "        \t# 获得当前簇的数据进行划分，以作比较\n",
    "            ptsInCurrCluster = dataSet[nonzero(clusterAssment[:,0] == i)[0],:] \n",
    "            centroidMat, splitClustAss = kMeans(ptsInCurrCluster, 2, distMeas)\n",
    "            # 计算各个簇的SSE值和\n",
    "            sseSplit = sum(splitClustAss[:,1]) # 划分后的\n",
    "            sseNotSplit = sum(clusterAssment[nonzero(clusterAssment[:,0]!=i)[0],1]) # 未划分的\n",
    "            print(\"sseSplit, and notSplit: \",sseSplit,sseNotSplit)\n",
    "            # 判断是否SSE值变小了，选出即将要划分的簇\n",
    "            if (sseSplit + sseNotSplit) < lowestSSE:\n",
    "                bestCentToSplit = i\n",
    "                bestNewCents = centroidMat\n",
    "                bestClustAss = splitClustAss.copy()\n",
    "                lowestSSE = sseSplit + sseNotSplit\n",
    "        # 第一次划分时，由0——>0、1，bestCentToSplit只能为0因为只有一个，所以下面是==1赋值为1(增加1)，0赋值为0\n",
    "        # 第二次划分时，假设对1簇进行划分误差最小，1个变2个原本的1不存在了，则需要将1赋值为2，0变为1，这样加上不用划分的0，就构成0、1、2，以此类推\n",
    "        bestClustAss[nonzero(bestClustAss[:,0] == 1)[0],0] = len(centList) #增加一个簇\n",
    "        bestClustAss[nonzero(bestClustAss[:,0] == 0)[0],0] = bestCentToSplit\n",
    "        print('the bestCentToSplit is: ',bestCentToSplit)\n",
    "        print('the len of bestClustAss is: ', len(bestClustAss))\n",
    "        # 同样，第一次划分时，bestCentToSplit只能为0，但得到的质心是两个，so append后将质心变为两个\n",
    "        # 同理，第二次划分后，假设对1划分是最优的，bestCentToSplit=1，原理idex为1的那个质心被划分为两个，所以就有下面的replace，再append，质心list此时包含三个元素，以此类推\n",
    "        centList[bestCentToSplit] = bestNewCents[0,:].tolist()[0]#replace a centroid with two best centroids \n",
    "        centList.append(bestNewCents[1,:].tolist()[0])\n",
    "        # 将选中的那个簇的误差信息赋给clusterAssment，另外一个分支簇就不用理会了\n",
    "        clusterAssment[nonzero(clusterAssment[:,0] == bestCentToSplit)[0],:]= bestClustAss#reassign new clusters, and SSE\n",
    "    return mat(centList), clusterAssment"
   ]
  },
  {
   "cell_type": "code",
   "execution_count": 7,
   "metadata": {
    "collapsed": false
   },
   "outputs": [
    {
     "data": {
      "image/png": "[encoded data removed]",
      "text/plain": [
       "<Figure size 432x288 with 1 Axes>"
      ]
     },
     "metadata": {},
     "output_type": "display_data"
    }
   ],
   "source": [
    "data = loadDataSet('testSet2.txt')\n",
    "data = asarray(data)\n",
    "# b, c = biKmeans(data, 3)\n",
    "\n",
    "def plot_fun(data, cluster_id, num):\n",
    "    temp = []\n",
    "    idex = where(cluster_id==num)[0]\n",
    "    for i in idex:\n",
    "        temp.append(data[i])\n",
    "    temp = asarray(temp)\n",
    "    return temp\n",
    "\n",
    "f1 = open('./clusterAssment_.txt', 'r')\n",
    "cluster_id = []\n",
    "for line in f1:\n",
    "    cluster_id.append(int(line[0]))\n",
    "\n",
    "cluster_id = asarray(cluster_id)\n",
    "\n",
    "f2 = open('./Centroid_.txt', 'r')\n",
    "centroid = []\n",
    "for line in f2:\n",
    "    line = line.split()\n",
    "    line = [float(i) for i in line]\n",
    "    centroid.append(line)\n",
    "centroid = asarray(centroid)\n",
    "\n",
    "plt.plot(centroid[:, 0], centroid[:, 1], 'kd')\n",
    "mark_list = ['r+', 'bo', 'gx']\n",
    "for p in range(0, 3):\n",
    "    w = plot_fun(data=data, cluster_id=cluster_id, num=p)\n",
    "    plt.plot(w[:, 0], w[:, 1], mark_list[p])\n",
    "plt.savefig('./images/out_opti.jpg')\n",
    "plt.show()"
   ]
  }
 ],
 "metadata": {
  "anaconda-cloud": {},
  "kernelspec": {
   "display_name": "Python [default]",
   "language": "python",
   "name": "python3"
  },
  "language_info": {
   "codemirror_mode": {
    "name": "ipython",
    "version": 3
   },
   "file_extension": ".py",
   "mimetype": "text/x-python",
   "name": "python",
   "nbconvert_exporter": "python",
   "pygments_lexer": "ipython3",
   "version": "3.5.2"
  }
 },
 "nbformat": 4,
 "nbformat_minor": 1
}
