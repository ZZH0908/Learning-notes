{
 "cells": [
  {
   "cell_type": "code",
   "execution_count": 7,
   "metadata": {},
   "outputs": [],
   "source": [
    "import numpy as np\n",
    "import  matplotlib.pyplot as plt"
   ]
  },
  {
   "cell_type": "code",
   "execution_count": 10,
   "metadata": {},
   "outputs": [
    {
     "data": {
      "image/png": "[encoded data removed]",
      "text/plain": [
       "<Figure size 432x288 with 1 Axes>"
      ]
     },
     "metadata": {},
     "output_type": "display_data"
    }
   ],
   "source": [
    "def loadDataSet(fileName):\n",
    "    dataMat = []; labelMat = []\n",
    "    fr = open(fileName)\n",
    "    for line in fr.readlines():\n",
    "        lineArr = line.strip().split('\\t')\n",
    "        dataMat.append([float(lineArr[0]), float(lineArr[1])])\n",
    "        labelMat.append(float(lineArr[2]))\n",
    "    return dataMat,labelMat\n",
    "\n",
    "data, label = loadDataSet('testSet.txt')\n",
    "data = np.asarray(data)\n",
    "label = np.asarray(label)\n",
    "plt.plot(data[label==1][:, 0], data[label==1][:, 1], 'ro')\n",
    "plt.plot(data[label==-1][:, 0], data[label==-1][:, 1], 'b^')\n",
    "plt.show()"
   ]
  },
  {
   "cell_type": "code",
   "execution_count": 18,
   "metadata": {},
   "outputs": [],
   "source": [
    "# 辅助函数\n",
    "def selectJrand(i,m):\n",
    "    j=i #we want to select any J not equal to i\n",
    "    while (j==i):\n",
    "        j = int(np.random.uniform(0,m))\n",
    "    return j\n",
    "\n",
    "\n",
    "def clipAlpha(aj,H,L):\n",
    "    if aj > H:\n",
    "        aj = H\n",
    "    if L > aj:\n",
    "        aj = L\n",
    "    return aj\n",
    "\n",
    "def calcWs(alphas,dataArr,classLabels):\n",
    "    X = np.mat(dataArr)\n",
    "    labelMat = np.mat(classLabels).transpose()\n",
    "    m,n = np.shape(X)\n",
    "    w = np.zeros((n,1))\n",
    "    for i in range(m):\n",
    "        w += np.multiply(alphas[i]*labelMat[i],X[i,:].T)\n",
    "    return w"
   ]
  },
  {
   "cell_type": "code",
   "execution_count": 26,
   "metadata": {},
   "outputs": [
    {
     "name": "stdout",
     "output_type": "stream",
     "text": [
      "alphas:  [[0.12766649 0.23989425 0.36756075]]\n",
      "**********************************************************************\n",
      "偏置:  [[-3.81621443]]\n"
     ]
    },
    {
     "data": {
      "image/png": "[encoded data removed]",
      "text/plain": [
       "<Figure size 432x288 with 1 Axes>"
      ]
     },
     "metadata": {},
     "output_type": "display_data"
    }
   ],
   "source": [
    "# smo简化版算法\n",
    "def smoSimple(dataMatIn, classLabels, C, toler, maxIter):\n",
    "    dataMatrix = np.mat(dataMatIn)   # 训练数据\n",
    "    labelMat = np.mat(classLabels).transpose()   # 标签\n",
    "    b = 0   # 初始化偏置\n",
    "    m,n = np.shape(dataMatrix)\n",
    "    alphas = np.mat(np.zeros((m,1)))  # 每个样本实例对应一个alphas，并初始化为0\n",
    "    iter = 0\n",
    "    while (iter < maxIter):\n",
    "        alphaPairsChanged = 0\n",
    "        for i in range(m):\n",
    "            fXi = float(np.multiply(alphas,labelMat).T*(dataMatrix*dataMatrix[i,:].T)) + b   # 分类决策函数表达式\n",
    "            Ei = fXi - float(labelMat[i])   # 预测值和真实值的误差\n",
    "            # 对于第一个alphas，选择误差大的进行优化，赶紧把最难的情况纠正过来才是要紧的事~这是中心思想，toler可以理解为阈值\n",
    "            # 实际上，0<alphas<C时的等价条件是间隔为1，但smo算法是允许少许误差的，我们认为误差绝对值大于toler即违反KKT条件(也就是下面if的判断条件)\n",
    "            # 同时检查alphas保证其不能等于0和C，因为现在求得alphas是未剪辑时候的值(不考虑不等式约束条件)，后续还要再进行剪辑\n",
    "            # 由于剪辑还会将大于C小于0的置C和0，所以对就没有必要在if判断中对这两种情况进行判断并优化了，多此一举，不值得再将这两种情况进行单独拎出来\n",
    "            if ((labelMat[i]*Ei < -toler) and (alphas[i] < C)) or ((labelMat[i]*Ei > toler) and (alphas[i] > 0)):\n",
    "                j = selectJrand(i, m)\n",
    "                fXj = float(np.multiply(alphas,labelMat).T*(dataMatrix*dataMatrix[j,:].T)) + b\n",
    "                Ej = fXj - float(labelMat[j])  # 求得第二个误差\n",
    "                alphaIold = alphas[i].copy(); alphaJold = alphas[j].copy()\n",
    "                # 剪辑所需值，也是拉格朗日乘子alphs的约束条件\n",
    "                if (labelMat[i] != labelMat[j]):\n",
    "                    L = max(0, alphas[j] - alphas[i])\n",
    "                    H = min(C, C + alphas[j] - alphas[i])\n",
    "                else:\n",
    "                    L = max(0, alphas[j] + alphas[i] - C)\n",
    "                    H = min(C, alphas[j] + alphas[i])\n",
    "                if L==H:\n",
    "#                     print(\"L==H\")\n",
    "                    continue\n",
    "                eta = 2.0 * dataMatrix[i,:]*dataMatrix[j,:].T - dataMatrix[i,:]*dataMatrix[i,:].T - dataMatrix[j,:]*dataMatrix[j,:].T\n",
    "                if eta >= 0:\n",
    "                    print(\"eta>=0\")\n",
    "                    continue\n",
    "                alphas[j] -= labelMat[j]*(Ei - Ej)/eta\n",
    "                alphas[j] = clipAlpha(alphas[j],H,L)   # 剪辑\n",
    "                if (abs(alphas[j] - alphaJold) < 0.00001):\n",
    "#                     print(\"j not moving enough\")\n",
    "                    continue\n",
    "                # 由alphas[j]求取alphas[i]值\n",
    "                alphas[i] += labelMat[j]*labelMat[i]*(alphaJold - alphas[j])\n",
    "                # 求偏置b\n",
    "                b1 = b - Ei- labelMat[i]*(alphas[i]-alphaIold)*dataMatrix[i,:]*dataMatrix[i,:].T - labelMat[j]*(alphas[j]-alphaJold)*dataMatrix[i,:]*dataMatrix[j,:].T\n",
    "                b2 = b - Ej- labelMat[i]*(alphas[i]-alphaIold)*dataMatrix[i,:]*dataMatrix[j,:].T - labelMat[j]*(alphas[j]-alphaJold)*dataMatrix[j,:]*dataMatrix[j,:].T\n",
    "                # 满足条件的alphas求出的对应偏置才是达标的\n",
    "                # 一个alphas是严重违背KKT条件的，另一个则是由约束条件自动确定的\n",
    "                if (0 < alphas[i]) and (C > alphas[i]):\n",
    "                    b = b1\n",
    "                elif (0 < alphas[j]) and (C > alphas[j]):\n",
    "                    b = b2\n",
    "                else:\n",
    "                    # 当等于或C时，取平均值\n",
    "                    b = (b1 + b2)/2.0\n",
    "                alphaPairsChanged += 1\n",
    "#                 print(\"iter: %d i:%d, pairs changed %d\" % (iter,i,alphaPairsChanged))\n",
    "        if (alphaPairsChanged == 0):\n",
    "            iter += 1\n",
    "        else: iter = 0\n",
    "#         print(\"iteration number: %d\" % iter)\n",
    "    return b,alphas\n",
    "\n",
    "data, label = loadDataSet(\"testSet.txt\")\n",
    "bias, alphas = smoSimple(data, label, 0.6, 0.001, 40)\n",
    "print('alphas: ', alphas[alphas>0])\n",
    "print(\"**********************************************************************\")\n",
    "print('偏置: ', bias)\n",
    "\n",
    "data = np.asarray(data)\n",
    "label = np.asarray(label)\n",
    "supportIndex = np.nonzero(alphas>0)[0]\n",
    "ws = calcWs(alphas, data, label)\n",
    "x0 = np.arange(0, 8, 0.1)\n",
    "y_ = (-ws[0, 0]*x0 - bias)/ws[1, 0]\n",
    "plt.plot(data[supportIndex,0], data[supportIndex,1],'ko',markersize=15,fillstyle='none')\n",
    "plt.plot(data[label==1][:, 0], data[label==1][:, 1], 'ro')\n",
    "plt.plot(data[label==-1][:, 0], data[label==-1][:, 1], 'b^')\n",
    "plt.plot(x0, y_.reshape((-1, 1)))\n",
    "plt.show()"
   ]
  }
 ],
 "metadata": {
  "kernelspec": {
   "display_name": "Python [conda env:Anaconda3]",
   "language": "python",
   "name": "conda-env-Anaconda3-py"
  },
  "language_info": {
   "codemirror_mode": {
    "name": "ipython",
    "version": 3
   },
   "file_extension": ".py",
   "mimetype": "text/x-python",
   "name": "python",
   "nbconvert_exporter": "python",
   "pygments_lexer": "ipython3",
   "version": "3.5.2"
  }
 },
 "nbformat": 4,
 "nbformat_minor": 2
}
