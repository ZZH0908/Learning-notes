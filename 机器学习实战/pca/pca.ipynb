{
 "cells": [
  {
   "cell_type": "code",
   "execution_count": 17,
   "metadata": {},
   "outputs": [],
   "source": [
    "import numpy as np\n",
    "import matplotlib.pyplot as plt"
   ]
  },
  {
   "cell_type": "code",
   "execution_count": 18,
   "metadata": {},
   "outputs": [],
   "source": [
    "# 读取数据\n",
    "def loadDataSet(fileName, delim='\\t'):\n",
    "    fr = open(fileName)\n",
    "    stringArr = [line.strip().split(delim) for line in fr.readlines()]\n",
    "    datArr = [list(map(float, line)) for line in stringArr]\n",
    "    return np.mat(datArr)\n",
    "\n",
    "# pca\n",
    "def pca(dataMat, topNfeat=9999999):\n",
    "    # 提前进行均值化，用于后面求协方差\n",
    "    meanVals = np.mean(dataMat, axis=0)\n",
    "    meanRemoved = dataMat - meanVals\n",
    "    covMat = np.cov(meanRemoved, rowvar=False)  # 求协方差矩阵\n",
    "    eigVals, eigVects = np.linalg.eig(np.mat(covMat))  # 求特征值和特征向量\n",
    "    eigValInd = np.argsort(eigVals)   # 对特征值进行排序，默认是对行进行，默认也是从小到大排序         \n",
    "    eigValInd = eigValInd[:-(topNfeat+1):-1]  # 返回特征向量，如果不对topNfeat进行设置则返回全部特征向量，-1是倒序输出因为上面是从小到大排序的\n",
    "    redEigVects = eigVects[:,eigValInd]       # 取出1个或若干个特征向量\n",
    "    lowDDataMat = meanRemoved * redEigVects   # 对原数据进行线性变换，即降维\n",
    "    reconMat = (lowDDataMat * redEigVects.T) + meanVals  # 对转换后的数据进行重构，lowDDataMat * redEigVects.T即还原到原始的坐标空间，再+均值还原用于可视化对比\n",
    "    return lowDDataMat, reconMat"
   ]
  },
  {
   "cell_type": "code",
   "execution_count": 19,
   "metadata": {},
   "outputs": [
    {
     "name": "stdout",
     "output_type": "stream",
     "text": [
      "(1000, 2)\n",
      "(1000, 1)\n"
     ]
    }
   ],
   "source": [
    "data = loadDataSet(\"testSet.txt\")\n",
    "print(data.shape)  # 原数据为1000个样本数，2个特征维\n",
    "new_data, reconmat = pca(data, 1)\n",
    "print(np.shape(new_data))  # pca降维之后，只有一个特征维\n",
    "# 其实打开数据txt就可以发现，两个特征维度基本一致、是相关的、冗余的，所以pca就很好的去除了一个没用的维"
   ]
  },
  {
   "cell_type": "code",
   "execution_count": 20,
   "metadata": {},
   "outputs": [
    {
     "data": {
      "image/png": "[encoded data removed]",
      "text/plain": [
       "<Figure size 432x288 with 1 Axes>"
      ]
     },
     "metadata": {},
     "output_type": "display_data"
    }
   ],
   "source": [
    "# 可视化\n",
    "data = loadDataSet(\"testSet.txt\")\n",
    "plt.plot(data[:, 0], data[:, 1], \"r+\")\n",
    "plt.plot(reconmat[:, 0], reconmat[:, 1], \"bo\")\n",
    "plt.show()"
   ]
  },
  {
   "cell_type": "markdown",
   "metadata": {},
   "source": [
    "PCA本质上是将方差最大的方向作为主要特征，并且在各个正交方向上将数据“离相关”，也就是让它们在不同正交方向上没有相关性."
   ]
  }
 ],
 "metadata": {
  "kernelspec": {
   "display_name": "Python [conda env:Anaconda3]",
   "language": "python",
   "name": "conda-env-Anaconda3-py"
  },
  "language_info": {
   "codemirror_mode": {
    "name": "ipython",
    "version": 3
   },
   "file_extension": ".py",
   "mimetype": "text/x-python",
   "name": "python",
   "nbconvert_exporter": "python",
   "pygments_lexer": "ipython3",
   "version": "3.5.2"
  }
 },
 "nbformat": 4,
 "nbformat_minor": 2
}
